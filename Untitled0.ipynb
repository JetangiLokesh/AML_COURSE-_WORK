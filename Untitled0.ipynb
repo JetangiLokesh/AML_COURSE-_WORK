{
  "nbformat": 4,
  "nbformat_minor": 0,
  "metadata": {
    "colab": {
      "provenance": []
    },
    "kernelspec": {
      "name": "python3",
      "display_name": "Python 3"
    },
    "language_info": {
      "name": "python"
    },
    "accelerator": "TPU"
  },
  "cells": [
    {
      "cell_type": "code",
      "execution_count": 1,
      "metadata": {
        "id": "4ngTmOJ4OBAV"
      },
      "outputs": [],
      "source": [
        "from keras.datasets import imdb\n",
        "\n",
        "(train_data, train_labels), (test_data, test_labels) = imdb.load_data(num_words=10000)\n",
        "\n"
      ]
    },
    {
      "cell_type": "code",
      "source": [
        "train_data[0]"
      ],
      "metadata": {
        "colab": {
          "base_uri": "https://localhost:8080/"
        },
        "id": "0COZzgmhSaW8",
        "outputId": "182b2d5f-763b-464b-df28-785a0edcdee4"
      },
      "execution_count": 2,
      "outputs": [
        {
          "output_type": "execute_result",
          "data": {
            "text/plain": [
              "[1,\n",
              " 14,\n",
              " 22,\n",
              " 16,\n",
              " 43,\n",
              " 530,\n",
              " 973,\n",
              " 1622,\n",
              " 1385,\n",
              " 65,\n",
              " 458,\n",
              " 4468,\n",
              " 66,\n",
              " 3941,\n",
              " 4,\n",
              " 173,\n",
              " 36,\n",
              " 256,\n",
              " 5,\n",
              " 25,\n",
              " 100,\n",
              " 43,\n",
              " 838,\n",
              " 112,\n",
              " 50,\n",
              " 670,\n",
              " 2,\n",
              " 9,\n",
              " 35,\n",
              " 480,\n",
              " 284,\n",
              " 5,\n",
              " 150,\n",
              " 4,\n",
              " 172,\n",
              " 112,\n",
              " 167,\n",
              " 2,\n",
              " 336,\n",
              " 385,\n",
              " 39,\n",
              " 4,\n",
              " 172,\n",
              " 4536,\n",
              " 1111,\n",
              " 17,\n",
              " 546,\n",
              " 38,\n",
              " 13,\n",
              " 447,\n",
              " 4,\n",
              " 192,\n",
              " 50,\n",
              " 16,\n",
              " 6,\n",
              " 147,\n",
              " 2025,\n",
              " 19,\n",
              " 14,\n",
              " 22,\n",
              " 4,\n",
              " 1920,\n",
              " 4613,\n",
              " 469,\n",
              " 4,\n",
              " 22,\n",
              " 71,\n",
              " 87,\n",
              " 12,\n",
              " 16,\n",
              " 43,\n",
              " 530,\n",
              " 38,\n",
              " 76,\n",
              " 15,\n",
              " 13,\n",
              " 1247,\n",
              " 4,\n",
              " 22,\n",
              " 17,\n",
              " 515,\n",
              " 17,\n",
              " 12,\n",
              " 16,\n",
              " 626,\n",
              " 18,\n",
              " 2,\n",
              " 5,\n",
              " 62,\n",
              " 386,\n",
              " 12,\n",
              " 8,\n",
              " 316,\n",
              " 8,\n",
              " 106,\n",
              " 5,\n",
              " 4,\n",
              " 2223,\n",
              " 5244,\n",
              " 16,\n",
              " 480,\n",
              " 66,\n",
              " 3785,\n",
              " 33,\n",
              " 4,\n",
              " 130,\n",
              " 12,\n",
              " 16,\n",
              " 38,\n",
              " 619,\n",
              " 5,\n",
              " 25,\n",
              " 124,\n",
              " 51,\n",
              " 36,\n",
              " 135,\n",
              " 48,\n",
              " 25,\n",
              " 1415,\n",
              " 33,\n",
              " 6,\n",
              " 22,\n",
              " 12,\n",
              " 215,\n",
              " 28,\n",
              " 77,\n",
              " 52,\n",
              " 5,\n",
              " 14,\n",
              " 407,\n",
              " 16,\n",
              " 82,\n",
              " 2,\n",
              " 8,\n",
              " 4,\n",
              " 107,\n",
              " 117,\n",
              " 5952,\n",
              " 15,\n",
              " 256,\n",
              " 4,\n",
              " 2,\n",
              " 7,\n",
              " 3766,\n",
              " 5,\n",
              " 723,\n",
              " 36,\n",
              " 71,\n",
              " 43,\n",
              " 530,\n",
              " 476,\n",
              " 26,\n",
              " 400,\n",
              " 317,\n",
              " 46,\n",
              " 7,\n",
              " 4,\n",
              " 2,\n",
              " 1029,\n",
              " 13,\n",
              " 104,\n",
              " 88,\n",
              " 4,\n",
              " 381,\n",
              " 15,\n",
              " 297,\n",
              " 98,\n",
              " 32,\n",
              " 2071,\n",
              " 56,\n",
              " 26,\n",
              " 141,\n",
              " 6,\n",
              " 194,\n",
              " 7486,\n",
              " 18,\n",
              " 4,\n",
              " 226,\n",
              " 22,\n",
              " 21,\n",
              " 134,\n",
              " 476,\n",
              " 26,\n",
              " 480,\n",
              " 5,\n",
              " 144,\n",
              " 30,\n",
              " 5535,\n",
              " 18,\n",
              " 51,\n",
              " 36,\n",
              " 28,\n",
              " 224,\n",
              " 92,\n",
              " 25,\n",
              " 104,\n",
              " 4,\n",
              " 226,\n",
              " 65,\n",
              " 16,\n",
              " 38,\n",
              " 1334,\n",
              " 88,\n",
              " 12,\n",
              " 16,\n",
              " 283,\n",
              " 5,\n",
              " 16,\n",
              " 4472,\n",
              " 113,\n",
              " 103,\n",
              " 32,\n",
              " 15,\n",
              " 16,\n",
              " 5345,\n",
              " 19,\n",
              " 178,\n",
              " 32]"
            ]
          },
          "metadata": {},
          "execution_count": 2
        }
      ]
    },
    {
      "cell_type": "code",
      "source": [
        "train_labels[0]"
      ],
      "metadata": {
        "colab": {
          "base_uri": "https://localhost:8080/"
        },
        "id": "TmYZwbIqSc47",
        "outputId": "22f3e614-fc67-4e8b-a0fc-96593436bedf"
      },
      "execution_count": 3,
      "outputs": [
        {
          "output_type": "execute_result",
          "data": {
            "text/plain": [
              "1"
            ]
          },
          "metadata": {},
          "execution_count": 3
        }
      ]
    },
    {
      "cell_type": "code",
      "source": [
        "max([max(sequence) for sequence in train_data])"
      ],
      "metadata": {
        "colab": {
          "base_uri": "https://localhost:8080/"
        },
        "id": "RxhcJsZGSjEG",
        "outputId": "002ec938-b99e-4114-98a1-49e789854181"
      },
      "execution_count": 4,
      "outputs": [
        {
          "output_type": "execute_result",
          "data": {
            "text/plain": [
              "9999"
            ]
          },
          "metadata": {},
          "execution_count": 4
        }
      ]
    },
    {
      "cell_type": "code",
      "source": [
        "# word_index is a dictionary mapping words to an integer index\n",
        "word_index = imdb.get_word_index()\n",
        "# We reverse it, mapping integer indices to words\n",
        "reverse_word_index = dict([(value, key) for (key, value) in word_index.items()])\n",
        "# We decode the review; note that our indices were offset by 3\n",
        "# because 0, 1 and 2 are reserved indices for \"padding\", \"start of sequence\", and \"unknown\".\n",
        "decoded_review = ' '.join([reverse_word_index.get(i - 3, '?') for i in train_data[0]])"
      ],
      "metadata": {
        "id": "VUsqKSvHSnDc"
      },
      "execution_count": 5,
      "outputs": []
    },
    {
      "cell_type": "code",
      "source": [
        "import numpy as np\n",
        "\n",
        "def vectorize_sequences(sequences, dimension=10000):\n",
        "    # Create an all-zero matrix of shape (len(sequences), dimension)\n",
        "    results = np.zeros((len(sequences), dimension))\n",
        "    for i, sequence in enumerate(sequences):\n",
        "        results[i, sequence] = 1.  # set specific indices of results[i] to 1s\n",
        "    return results\n",
        "\n",
        "# Our vectorized training data\n",
        "x_train = vectorize_sequences(train_data)\n",
        "# Our vectorized test data\n",
        "x_test = vectorize_sequences(test_data)"
      ],
      "metadata": {
        "id": "ysdmweyDSsd8"
      },
      "execution_count": 6,
      "outputs": []
    },
    {
      "cell_type": "code",
      "source": [
        "x_train[0]"
      ],
      "metadata": {
        "colab": {
          "base_uri": "https://localhost:8080/"
        },
        "id": "CfyvQpZNSztN",
        "outputId": "78ac6a23-2ce0-44fc-986b-a5802f73f86e"
      },
      "execution_count": 7,
      "outputs": [
        {
          "output_type": "execute_result",
          "data": {
            "text/plain": [
              "array([0., 1., 1., ..., 0., 0., 0.])"
            ]
          },
          "metadata": {},
          "execution_count": 7
        }
      ]
    },
    {
      "cell_type": "code",
      "source": [
        "# Our vectorized labels\n",
        "y_train = np.asarray(train_labels).astype('float32')\n",
        "y_test = np.asarray(test_labels).astype('float32')"
      ],
      "metadata": {
        "id": "-zB2W9VkS4eJ"
      },
      "execution_count": 8,
      "outputs": []
    },
    {
      "cell_type": "code",
      "source": [
        "from keras import models\n",
        "from keras import layers\n",
        "\n",
        "model = models.Sequential()\n",
        "model.add(layers.Dense(16, activation='relu', input_shape=(10000,)))\n",
        "model.add(layers.Dense(16, activation='relu'))\n",
        "model.add(layers.Dense(1, activation='sigmoid'))"
      ],
      "metadata": {
        "id": "DLlQyrQjS6lu"
      },
      "execution_count": 9,
      "outputs": []
    },
    {
      "cell_type": "code",
      "source": [
        "model.compile(optimizer='rmsprop',\n",
        "              loss='binary_crossentropy',\n",
        "              metrics=['accuracy'])"
      ],
      "metadata": {
        "id": "_bfGTXsgS-sH"
      },
      "execution_count": 10,
      "outputs": []
    },
    {
      "cell_type": "code",
      "source": [
        "from keras import optimizers\n",
        "\n",
        "# Use the learning_rate parameter to set the learning rate\n",
        "optimizer = optimizers.RMSprop(learning_rate=0.001)\n",
        "\n",
        "model.compile(optimizer=optimizer,\n",
        "              loss='binary_crossentropy',\n",
        "              metrics=['accuracy'])\n"
      ],
      "metadata": {
        "id": "w-WAlYp7TBps"
      },
      "execution_count": 11,
      "outputs": []
    },
    {
      "cell_type": "code",
      "source": [
        "from keras import optimizers\n",
        "\n",
        "# Use the learning_rate parameter to set the learning rate\n",
        "optimizer = optimizers.RMSprop(learning_rate=0.001)\n",
        "\n",
        "model.compile(optimizer=optimizer,\n",
        "              loss='binary_crossentropy',\n",
        "              metrics=['binary_accuracy'])\n"
      ],
      "metadata": {
        "id": "euUh18P5TLDa"
      },
      "execution_count": 12,
      "outputs": []
    },
    {
      "cell_type": "code",
      "source": [
        "x_val = x_train[:10000]\n",
        "partial_x_train = x_train[10000:]\n",
        "\n",
        "y_val = y_train[:10000]\n",
        "partial_y_train = y_train[10000:]"
      ],
      "metadata": {
        "id": "CQOefOYlWlML"
      },
      "execution_count": 13,
      "outputs": []
    },
    {
      "cell_type": "code",
      "source": [
        "history = model.fit(partial_x_train,\n",
        "                    partial_y_train,\n",
        "                    epochs=20,\n",
        "                    batch_size=512,\n",
        "                    validation_data=(x_val, y_val))"
      ],
      "metadata": {
        "colab": {
          "base_uri": "https://localhost:8080/"
        },
        "id": "KPUEQPJrWr9g",
        "outputId": "722bb46a-2d0b-4a82-dc6e-8f536c775225"
      },
      "execution_count": 14,
      "outputs": [
        {
          "output_type": "stream",
          "name": "stdout",
          "text": [
            "Epoch 1/20\n",
            "30/30 [==============================] - 7s 168ms/step - loss: 0.5464 - binary_accuracy: 0.7899 - val_loss: 0.4164 - val_binary_accuracy: 0.8666\n",
            "Epoch 2/20\n",
            "30/30 [==============================] - 4s 122ms/step - loss: 0.3302 - binary_accuracy: 0.9005 - val_loss: 0.3396 - val_binary_accuracy: 0.8699\n",
            "Epoch 3/20\n",
            "30/30 [==============================] - 2s 71ms/step - loss: 0.2417 - binary_accuracy: 0.9221 - val_loss: 0.2863 - val_binary_accuracy: 0.8906\n",
            "Epoch 4/20\n",
            "30/30 [==============================] - 2s 54ms/step - loss: 0.1886 - binary_accuracy: 0.9396 - val_loss: 0.2733 - val_binary_accuracy: 0.8895\n",
            "Epoch 5/20\n",
            "30/30 [==============================] - 1s 44ms/step - loss: 0.1544 - binary_accuracy: 0.9503 - val_loss: 0.2944 - val_binary_accuracy: 0.8823\n",
            "Epoch 6/20\n",
            "30/30 [==============================] - 2s 57ms/step - loss: 0.1287 - binary_accuracy: 0.9611 - val_loss: 0.3024 - val_binary_accuracy: 0.8818\n",
            "Epoch 7/20\n",
            "30/30 [==============================] - 2s 56ms/step - loss: 0.1051 - binary_accuracy: 0.9697 - val_loss: 0.3239 - val_binary_accuracy: 0.8786\n",
            "Epoch 8/20\n",
            "30/30 [==============================] - 1s 44ms/step - loss: 0.0880 - binary_accuracy: 0.9752 - val_loss: 0.3264 - val_binary_accuracy: 0.8791\n",
            "Epoch 9/20\n",
            "30/30 [==============================] - 1s 45ms/step - loss: 0.0711 - binary_accuracy: 0.9820 - val_loss: 0.3377 - val_binary_accuracy: 0.8800\n",
            "Epoch 10/20\n",
            "30/30 [==============================] - 1s 45ms/step - loss: 0.0602 - binary_accuracy: 0.9857 - val_loss: 0.3788 - val_binary_accuracy: 0.8767\n",
            "Epoch 11/20\n",
            "30/30 [==============================] - 2s 62ms/step - loss: 0.0477 - binary_accuracy: 0.9891 - val_loss: 0.4045 - val_binary_accuracy: 0.8752\n",
            "Epoch 12/20\n",
            "30/30 [==============================] - 2s 66ms/step - loss: 0.0386 - binary_accuracy: 0.9925 - val_loss: 0.4132 - val_binary_accuracy: 0.8757\n",
            "Epoch 13/20\n",
            "30/30 [==============================] - 2s 69ms/step - loss: 0.0296 - binary_accuracy: 0.9943 - val_loss: 0.4426 - val_binary_accuracy: 0.8743\n",
            "Epoch 14/20\n",
            "30/30 [==============================] - 2s 69ms/step - loss: 0.0240 - binary_accuracy: 0.9962 - val_loss: 0.4719 - val_binary_accuracy: 0.8721\n",
            "Epoch 15/20\n",
            "30/30 [==============================] - 2s 63ms/step - loss: 0.0173 - binary_accuracy: 0.9978 - val_loss: 0.5138 - val_binary_accuracy: 0.8649\n",
            "Epoch 16/20\n",
            "30/30 [==============================] - 1s 44ms/step - loss: 0.0144 - binary_accuracy: 0.9981 - val_loss: 0.5378 - val_binary_accuracy: 0.8700\n",
            "Epoch 17/20\n",
            "30/30 [==============================] - 1s 45ms/step - loss: 0.0093 - binary_accuracy: 0.9995 - val_loss: 0.5759 - val_binary_accuracy: 0.8673\n",
            "Epoch 18/20\n",
            "30/30 [==============================] - 1s 45ms/step - loss: 0.0088 - binary_accuracy: 0.9987 - val_loss: 0.6161 - val_binary_accuracy: 0.8680\n",
            "Epoch 19/20\n",
            "30/30 [==============================] - 1s 44ms/step - loss: 0.0049 - binary_accuracy: 0.9998 - val_loss: 0.6466 - val_binary_accuracy: 0.8649\n",
            "Epoch 20/20\n",
            "30/30 [==============================] - 1s 45ms/step - loss: 0.0056 - binary_accuracy: 0.9991 - val_loss: 0.6808 - val_binary_accuracy: 0.8656\n"
          ]
        }
      ]
    },
    {
      "cell_type": "code",
      "source": [
        "history_dict = history.history\n",
        "history_dict.keys()"
      ],
      "metadata": {
        "colab": {
          "base_uri": "https://localhost:8080/"
        },
        "id": "xt703fw_XR-n",
        "outputId": "5e9c7ffe-759a-4471-8849-2b5437d682ab"
      },
      "execution_count": 15,
      "outputs": [
        {
          "output_type": "execute_result",
          "data": {
            "text/plain": [
              "dict_keys(['loss', 'binary_accuracy', 'val_loss', 'val_binary_accuracy'])"
            ]
          },
          "metadata": {},
          "execution_count": 15
        }
      ]
    },
    {
      "cell_type": "code",
      "source": [
        "import matplotlib.pyplot as plt\n",
        "\n",
        "# Use 'loss' and 'val_loss' instead of 'acc' and 'val_acc'\n",
        "loss = history.history['loss']\n",
        "val_loss = history.history['val_loss']\n",
        "\n",
        "epochs = range(1, len(loss) + 1)\n",
        "\n",
        "# \"bo\" is for \"blue dot\"\n",
        "plt.plot(epochs, loss, 'bo', label='Training loss')\n",
        "# \"b\" is for \"solid blue line\"\n",
        "plt.plot(epochs, val_loss, 'b', label='Validation loss')\n",
        "plt.title('Training and validation loss')\n",
        "plt.xlabel('Epochs')\n",
        "plt.ylabel('Loss')\n",
        "plt.legend()\n",
        "\n",
        "plt.show()\n"
      ],
      "metadata": {
        "colab": {
          "base_uri": "https://localhost:8080/",
          "height": 472
        },
        "id": "Ud7WV4K2XbZj",
        "outputId": "3c56fddb-fcd4-4000-e43e-a4ea3a515141"
      },
      "execution_count": 16,
      "outputs": [
        {
          "output_type": "display_data",
          "data": {
            "text/plain": [
              "<Figure size 640x480 with 1 Axes>"
            ],
            "image/png": "[encoded data removed]"
          },
          "metadata": {}
        }
      ]
    },
    {
      "cell_type": "code",
      "source": [
        "plt.clf()   # clear figure\n",
        "acc_values = history_dict['binary_accuracy']\n",
        "val_acc_values = history_dict['val_binary_accuracy']\n",
        "\n",
        "plt.plot(epochs, acc_values, 'bo', label='Training acc')\n",
        "plt.plot(epochs, val_acc_values, 'b', label='Validation acc')\n",
        "plt.title('Training and validation accuracy')\n",
        "plt.xlabel('Epochs')\n",
        "plt.ylabel('Accuracy')\n",
        "plt.legend()\n",
        "\n",
        "plt.show()\n",
        "\n",
        "\n",
        "\n",
        "\n",
        "\n"
      ],
      "metadata": {
        "colab": {
          "base_uri": "https://localhost:8080/",
          "height": 472
        },
        "id": "LTpJkBQuXwBy",
        "outputId": "3a151b3e-221d-40c8-da63-1c0839c88549"
      },
      "execution_count": 17,
      "outputs": [
        {
          "output_type": "display_data",
          "data": {
            "text/plain": [
              "<Figure size 640x480 with 1 Axes>"
            ],
            "image/png": "[encoded data removed]"
          },
          "metadata": {}
        }
      ]
    },
    {
      "cell_type": "code",
      "source": [
        "model = models.Sequential()\n",
        "model.add(layers.Dense(16, activation='relu', input_shape=(10000,)))\n",
        "model.add(layers.Dense(16, activation='relu'))\n",
        "model.add(layers.Dense(1, activation='sigmoid'))\n",
        "\n",
        "model.compile(optimizer='rmsprop',\n",
        "              loss='binary_crossentropy',\n",
        "              metrics=['accuracy'])\n",
        "\n",
        "model.fit(x_train, y_train, epochs=4, batch_size=512)\n",
        "results = model.evaluate(x_test, y_test)\n"
      ],
      "metadata": {
        "colab": {
          "base_uri": "https://localhost:8080/"
        },
        "id": "mqqlqyuIZir-",
        "outputId": "c43164c4-ef14-448a-d085-a4225ae0d1dc"
      },
      "execution_count": 18,
      "outputs": [
        {
          "output_type": "stream",
          "name": "stdout",
          "text": [
            "Epoch 1/4\n",
            "49/49 [==============================] - 3s 50ms/step - loss: 0.4825 - accuracy: 0.8125\n",
            "Epoch 2/4\n",
            "49/49 [==============================] - 2s 47ms/step - loss: 0.2852 - accuracy: 0.8991\n",
            "Epoch 3/4\n",
            "49/49 [==============================] - 2s 46ms/step - loss: 0.2225 - accuracy: 0.9195\n",
            "Epoch 4/4\n",
            "49/49 [==============================] - 2s 34ms/step - loss: 0.1864 - accuracy: 0.9326\n",
            "782/782 [==============================] - 3s 3ms/step - loss: 0.2931 - accuracy: 0.8823\n"
          ]
        }
      ]
    },
    {
      "cell_type": "code",
      "source": [
        "results"
      ],
      "metadata": {
        "colab": {
          "base_uri": "https://localhost:8080/"
        },
        "id": "8G0boTLeZ4Fu",
        "outputId": "fa2798d3-07ec-4d2c-9bec-71e41e79b89d"
      },
      "execution_count": 19,
      "outputs": [
        {
          "output_type": "execute_result",
          "data": {
            "text/plain": [
              "[0.2931145429611206, 0.8822799921035767]"
            ]
          },
          "metadata": {},
          "execution_count": 19
        }
      ]
    },
    {
      "cell_type": "code",
      "source": [
        "model.predict(x_test)"
      ],
      "metadata": {
        "colab": {
          "base_uri": "https://localhost:8080/"
        },
        "id": "4VMt9Xt7Z_Pt",
        "outputId": "b9bc7494-8768-4ef0-910c-5ae409add502"
      },
      "execution_count": 20,
      "outputs": [
        {
          "output_type": "stream",
          "name": "stdout",
          "text": [
            "782/782 [==============================] - 3s 4ms/step\n"
          ]
        },
        {
          "output_type": "execute_result",
          "data": {
            "text/plain": [
              "array([[0.17010352],\n",
              "       [0.9986541 ],\n",
              "       [0.57528675],\n",
              "       ...,\n",
              "       [0.0663693 ],\n",
              "       [0.05456105],\n",
              "       [0.47212145]], dtype=float32)"
            ]
          },
          "metadata": {},
          "execution_count": 20
        }
      ]
    },
    {
      "cell_type": "code",
      "source": [
        "from keras import models\n",
        "from keras import layers\n",
        "\n",
        "loki_model = models.Sequential()\n",
        "loki_model.add(layers.Dense(8, activation='tanh', input_shape=(10000,)))\n",
        "loki_model.add(layers.Dropout(0.8))  # Adding the dropout layer after the first Dense layer\n",
        "loki_model.add(layers.Dense(16, activation='tanh'))\n",
        "loki_model.add(layers.Dropout(0.8))  # Adding the dropout layer after the Second Dense layer\n",
        "loki_model.add(layers.Dense(32, activation='tanh'))\n",
        "loki_model.add(layers.Dropout(0.8))  # Adding the dropout layer after the Second Dense layer\n",
        "loki_model.add(layers.Dense(64, activation='tanh', input_shape=(10000,)))\n",
        "loki_model.add(layers.Dropout(0.8))  # Adding the dropout layer after the Second Dense layer\n",
        "loki_model.add(layers.Dense(128, activation='tanh', input_shape=(10000,)))"
      ],
      "metadata": {
        "id": "kWitjNnfTM_o"
      },
      "execution_count": 21,
      "outputs": []
    },
    {
      "cell_type": "code",
      "source": [
        "loki_model.compile(optimizer='rmsprop',\n",
        "              loss='mean_squared_error',\n",
        "              metrics=['binary_accuracy'])"
      ],
      "metadata": {
        "id": "sN5lgymPTOOz"
      },
      "execution_count": 22,
      "outputs": []
    },
    {
      "cell_type": "code",
      "source": [
        "from keras import optimizers\n",
        "\n",
        "# Use the learning_rate parameter to set the learning rate\n",
        "optimizer = optimizers.RMSprop(learning_rate=0.001)\n",
        "\n",
        "loki_model.compile(optimizer=optimizer,\n",
        "              loss='mean_squared_error',\n",
        "              metrics=['binary_accuracy'])"
      ],
      "metadata": {
        "id": "n-eHgoQjTSDp"
      },
      "execution_count": 23,
      "outputs": []
    },
    {
      "cell_type": "code",
      "source": [
        "from keras import losses\n",
        "from keras import metrics\n",
        "\n",
        "loki_model.compile(optimizer=optimizers.RMSprop(learning_rate=0.001),\n",
        "              loss=losses.mean_squared_error,\n",
        "              metrics=[metrics.binary_accuracy])"
      ],
      "metadata": {
        "id": "yrPiFLLeTWGS"
      },
      "execution_count": 24,
      "outputs": []
    },
    {
      "cell_type": "code",
      "source": [
        "x_val_new = x_train[:10000]\n",
        "partial_x_train_new= x_train[10000:]\n",
        "\n",
        "y_val_new = y_train[:10000]\n",
        "partial_y_train_new = y_train[10000:]"
      ],
      "metadata": {
        "id": "fNUTGK9JTbq3"
      },
      "execution_count": 25,
      "outputs": []
    },
    {
      "cell_type": "code",
      "source": [
        "history_new = loki_model.fit(partial_x_train_new,\n",
        "                    partial_y_train_new,\n",
        "                    epochs=20,\n",
        "                    batch_size=512,\n",
        "                    validation_data=(x_val, y_val))"
      ],
      "metadata": {
        "colab": {
          "base_uri": "https://localhost:8080/"
        },
        "id": "M5dPkM88Te4G",
        "outputId": "46d28504-ec5c-4a0b-b2de-d0ed9954ad41"
      },
      "execution_count": 26,
      "outputs": [
        {
          "output_type": "stream",
          "name": "stdout",
          "text": [
            "Epoch 1/20\n",
            "30/30 [==============================] - 5s 97ms/step - loss: 0.6352 - binary_accuracy: 0.5021 - val_loss: 0.4222 - val_binary_accuracy: 0.4947\n",
            "Epoch 2/20\n",
            "30/30 [==============================] - 1s 45ms/step - loss: 0.4907 - binary_accuracy: 0.5018 - val_loss: 0.3031 - val_binary_accuracy: 0.4947\n",
            "Epoch 3/20\n",
            "30/30 [==============================] - 1s 45ms/step - loss: 0.3712 - binary_accuracy: 0.5042 - val_loss: 0.2494 - val_binary_accuracy: 0.5073\n",
            "Epoch 4/20\n",
            "30/30 [==============================] - 1s 45ms/step - loss: 0.3142 - binary_accuracy: 0.5077 - val_loss: 0.2428 - val_binary_accuracy: 0.6084\n",
            "Epoch 5/20\n",
            "30/30 [==============================] - 1s 44ms/step - loss: 0.2868 - binary_accuracy: 0.5127 - val_loss: 0.2372 - val_binary_accuracy: 0.6397\n",
            "Epoch 6/20\n",
            "30/30 [==============================] - 1s 46ms/step - loss: 0.2671 - binary_accuracy: 0.5271 - val_loss: 0.2255 - val_binary_accuracy: 0.6964\n",
            "Epoch 7/20\n",
            "30/30 [==============================] - 1s 45ms/step - loss: 0.2524 - binary_accuracy: 0.5548 - val_loss: 0.2063 - val_binary_accuracy: 0.7658\n",
            "Epoch 8/20\n",
            "30/30 [==============================] - 2s 62ms/step - loss: 0.2385 - binary_accuracy: 0.5850 - val_loss: 0.1750 - val_binary_accuracy: 0.8432\n",
            "Epoch 9/20\n",
            "30/30 [==============================] - 2s 71ms/step - loss: 0.2206 - binary_accuracy: 0.6337 - val_loss: 0.1520 - val_binary_accuracy: 0.8498\n",
            "Epoch 10/20\n",
            "30/30 [==============================] - 2s 72ms/step - loss: 0.2072 - binary_accuracy: 0.6687 - val_loss: 0.1312 - val_binary_accuracy: 0.8560\n",
            "Epoch 11/20\n",
            "30/30 [==============================] - 2s 74ms/step - loss: 0.1959 - binary_accuracy: 0.7009 - val_loss: 0.1228 - val_binary_accuracy: 0.8540\n",
            "Epoch 12/20\n",
            "30/30 [==============================] - 1s 49ms/step - loss: 0.1856 - binary_accuracy: 0.7314 - val_loss: 0.1141 - val_binary_accuracy: 0.8827\n",
            "Epoch 13/20\n",
            "30/30 [==============================] - 1s 46ms/step - loss: 0.1779 - binary_accuracy: 0.7496 - val_loss: 0.1092 - val_binary_accuracy: 0.8854\n",
            "Epoch 14/20\n",
            "30/30 [==============================] - 2s 59ms/step - loss: 0.1678 - binary_accuracy: 0.7729 - val_loss: 0.1064 - val_binary_accuracy: 0.8825\n",
            "Epoch 15/20\n",
            "30/30 [==============================] - 1s 46ms/step - loss: 0.1596 - binary_accuracy: 0.7909 - val_loss: 0.1036 - val_binary_accuracy: 0.8872\n",
            "Epoch 16/20\n",
            "30/30 [==============================] - 1s 45ms/step - loss: 0.1530 - binary_accuracy: 0.8003 - val_loss: 0.1029 - val_binary_accuracy: 0.8878\n",
            "Epoch 17/20\n",
            "30/30 [==============================] - 2s 68ms/step - loss: 0.1434 - binary_accuracy: 0.8174 - val_loss: 0.1007 - val_binary_accuracy: 0.8878\n",
            "Epoch 18/20\n",
            "30/30 [==============================] - 2s 58ms/step - loss: 0.1374 - binary_accuracy: 0.8246 - val_loss: 0.0969 - val_binary_accuracy: 0.8868\n",
            "Epoch 19/20\n",
            "30/30 [==============================] - 2s 70ms/step - loss: 0.1318 - binary_accuracy: 0.8290 - val_loss: 0.0976 - val_binary_accuracy: 0.8878\n",
            "Epoch 20/20\n",
            "30/30 [==============================] - 2s 72ms/step - loss: 0.1256 - binary_accuracy: 0.8329 - val_loss: 0.0936 - val_binary_accuracy: 0.8864\n"
          ]
        }
      ]
    },
    {
      "cell_type": "code",
      "source": [
        "history_dict = history_new.history\n",
        "history_dict.keys()"
      ],
      "metadata": {
        "colab": {
          "base_uri": "https://localhost:8080/"
        },
        "id": "LAa2CDCwTjWp",
        "outputId": "f648dfc0-f04a-424d-d760-ac9e7ddfaae4"
      },
      "execution_count": 27,
      "outputs": [
        {
          "output_type": "execute_result",
          "data": {
            "text/plain": [
              "dict_keys(['loss', 'binary_accuracy', 'val_loss', 'val_binary_accuracy'])"
            ]
          },
          "metadata": {},
          "execution_count": 27
        }
      ]
    },
    {
      "cell_type": "code",
      "source": [
        "import matplotlib.pyplot as plt\n",
        "\n",
        "new_model_accu = history_new.history['binary_accuracy']\n",
        "new_model_accu_val = history_new.history['val_binary_accuracy']\n",
        "loss_new_model = history_new.history['loss']\n",
        "val_loss_new_model = history_new.history['val_loss']\n",
        "\n",
        "\n",
        "epochs = range(1, len(loss) + 1)\n",
        "\n",
        "# \"bo\" is for \"blue dot\"\n",
        "plt.plot(epochs, loss_new_model, 'bo', label='Training loss')\n",
        "# \"b\" is for \"solid blue line\"\n",
        "plt.plot(epochs, val_loss_new_model, 'b', label='Validation loss')\n",
        "plt.title('Training and validation loss')\n",
        "plt.xlabel('Epochs')\n",
        "plt.ylabel('Loss')\n",
        "plt.legend()\n",
        "\n",
        "plt.show()\n"
      ],
      "metadata": {
        "colab": {
          "base_uri": "https://localhost:8080/",
          "height": 472
        },
        "id": "OcyCWjEWTnja",
        "outputId": "809260ef-1acd-4c56-c904-817e3d2f6053"
      },
      "execution_count": 28,
      "outputs": [
        {
          "output_type": "display_data",
          "data": {
            "text/plain": [
              "<Figure size 640x480 with 1 Axes>"
            ],
            "image/png": "[encoded data removed]"
          },
          "metadata": {}
        }
      ]
    },
    {
      "cell_type": "code",
      "source": [
        "plt.clf()   # clear figure\n",
        "acc_values = history_dict['binary_accuracy']\n",
        "val_acc_values = history_dict['val_binary_accuracy']\n",
        "\n",
        "plt.plot(epochs, new_model_accu, 'bo', label='Training acc')\n",
        "plt.plot(epochs, new_model_accu_val, 'b', label='Validation acc')\n",
        "plt.title('Training and validation accuracy')\n",
        "plt.xlabel('Epochs')\n",
        "plt.ylabel('Accuracy')\n",
        "plt.legend()\n",
        "\n",
        "plt.show()\n"
      ],
      "metadata": {
        "colab": {
          "base_uri": "https://localhost:8080/",
          "height": 472
        },
        "id": "NVyKe3QdTrZE",
        "outputId": "20a1b18a-8612-4491-9453-523854d98f16"
      },
      "execution_count": 29,
      "outputs": [
        {
          "output_type": "display_data",
          "data": {
            "text/plain": [
              "<Figure size 640x480 with 1 Axes>"
            ],
            "image/png": "[encoded data removed]"
          },
          "metadata": {}
        }
      ]
    },
    {
      "cell_type": "code",
      "source": [
        "test_loss, test_accuracy = loki_model.evaluate(x_test, y_test)\n",
        "print(f'Test Accuracy: {test_accuracy}')\n",
        "print(f'Test Loss: {test_loss}')"
      ],
      "metadata": {
        "colab": {
          "base_uri": "https://localhost:8080/"
        },
        "id": "Ax0AM9rGZKVh",
        "outputId": "61cf32cd-f6a0-4e3f-fd86-d90102934600"
      },
      "execution_count": 30,
      "outputs": [
        {
          "output_type": "stream",
          "name": "stdout",
          "text": [
            "782/782 [==============================] - 3s 3ms/step - loss: 0.0972 - binary_accuracy: 0.8791\n",
            "Test Accuracy: 0.8790731430053711\n",
            "Test Loss: 0.09715816378593445\n"
          ]
        }
      ]
    },
    {
      "cell_type": "markdown",
      "source": [
        "with dropouts\n",
        "loss: 0.0972 - binary_accuracy: 0.8791\n",
        "Test Accuracy: 0.8790731430053711\n",
        "Test Loss: 0.09715816378593445"
      ],
      "metadata": {
        "id": "TTL0ZT9IB1pq"
      }
    },
    {
      "cell_type": "markdown",
      "source": [
        "without improvemnt\n",
        "binary_accuracy: 0.8524\n",
        "Test Accuracy: 0.8523778319358826\n",
        "Test Loss: 0.12784813344478607\n"
      ],
      "metadata": {
        "id": "jQy6MJGcahj_"
      }
    },
    {
      "cell_type": "code",
      "source": [
        "results"
      ],
      "metadata": {
        "colab": {
          "base_uri": "https://localhost:8080/"
        },
        "id": "I_WuGSjZT7Vv",
        "outputId": "2c5bbf3f-c69b-43fa-818c-572e41198b18"
      },
      "execution_count": 31,
      "outputs": [
        {
          "output_type": "execute_result",
          "data": {
            "text/plain": [
              "[0.2931145429611206, 0.8822799921035767]"
            ]
          },
          "metadata": {},
          "execution_count": 31
        }
      ]
    },
    {
      "cell_type": "code",
      "source": [
        "loki_model.predict(x_test)"
      ],
      "metadata": {
        "colab": {
          "base_uri": "https://localhost:8080/"
        },
        "id": "OKjeoWRHT8IP",
        "outputId": "a9c3b113-63b6-4e2a-f593-4f0f7fc6fb34"
      },
      "execution_count": 32,
      "outputs": [
        {
          "output_type": "stream",
          "name": "stdout",
          "text": [
            "782/782 [==============================] - 7s 9ms/step\n"
          ]
        },
        {
          "output_type": "execute_result",
          "data": {
            "text/plain": [
              "array([[0.12196259, 0.12198707, 0.12202829, ..., 0.12210933, 0.12208687,\n",
              "        0.12167209],\n",
              "       [0.80648845, 0.806522  , 0.8065774 , ..., 0.806681  , 0.8066491 ,\n",
              "        0.8061087 ],\n",
              "       [0.8036526 , 0.8036883 , 0.8037473 , ..., 0.80385727, 0.8038234 ,\n",
              "        0.80324847],\n",
              "       ...,\n",
              "       [0.05726054, 0.05729473, 0.05735209, ..., 0.0574635 , 0.05743199,\n",
              "        0.05685871],\n",
              "       [0.04532394, 0.04536112, 0.04542349, ..., 0.04554444, 0.04551003,\n",
              "        0.04488716],\n",
              "       [0.6152229 , 0.6152865 , 0.6153916 , ..., 0.6155884 , 0.61552817,\n",
              "        0.6144998 ]], dtype=float32)"
            ]
          },
          "metadata": {},
          "execution_count": 32
        }
      ]
    },
    {
      "cell_type": "code",
      "source": [],
      "metadata": {
        "id": "0h3XyIG4zx_R"
      },
      "execution_count": null,
      "outputs": []
    }
  ]
}