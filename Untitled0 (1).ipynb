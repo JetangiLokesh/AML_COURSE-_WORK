{
  "nbformat": 4,
  "nbformat_minor": 0,
  "metadata": {
    "colab": {
      "provenance": []
    },
    "kernelspec": {
      "name": "python3",
      "display_name": "Python 3"
    },
    "language_info": {
      "name": "python"
    },
    "accelerator": "TPU"
  },
  "cells": [
    {
      "cell_type": "code",
      "execution_count": 1,
      "metadata": {
        "id": "4ngTmOJ4OBAV"
      },
      "outputs": [],
      "source": [
        "from keras.datasets import imdb\n",
        "\n",
        "(train_data, train_labels), (test_data, test_labels) = imdb.load_data(num_words=10000)\n",
        "\n"
      ]
    },
    {
      "cell_type": "code",
      "source": [
        "train_data[0]"
      ],
      "metadata": {
        "colab": {
          "base_uri": "https://localhost:8080/"
        },
        "id": "0COZzgmhSaW8",
        "outputId": "2a050e37-75a7-4106-bbee-659da522c3b5"
      },
      "execution_count": 2,
      "outputs": [
        {
          "output_type": "execute_result",
          "data": {
            "text/plain": [
              "[1,\n",
              " 14,\n",
              " 22,\n",
              " 16,\n",
              " 43,\n",
              " 530,\n",
              " 973,\n",
              " 1622,\n",
              " 1385,\n",
              " 65,\n",
              " 458,\n",
              " 4468,\n",
              " 66,\n",
              " 3941,\n",
              " 4,\n",
              " 173,\n",
              " 36,\n",
              " 256,\n",
              " 5,\n",
              " 25,\n",
              " 100,\n",
              " 43,\n",
              " 838,\n",
              " 112,\n",
              " 50,\n",
              " 670,\n",
              " 2,\n",
              " 9,\n",
              " 35,\n",
              " 480,\n",
              " 284,\n",
              " 5,\n",
              " 150,\n",
              " 4,\n",
              " 172,\n",
              " 112,\n",
              " 167,\n",
              " 2,\n",
              " 336,\n",
              " 385,\n",
              " 39,\n",
              " 4,\n",
              " 172,\n",
              " 4536,\n",
              " 1111,\n",
              " 17,\n",
              " 546,\n",
              " 38,\n",
              " 13,\n",
              " 447,\n",
              " 4,\n",
              " 192,\n",
              " 50,\n",
              " 16,\n",
              " 6,\n",
              " 147,\n",
              " 2025,\n",
              " 19,\n",
              " 14,\n",
              " 22,\n",
              " 4,\n",
              " 1920,\n",
              " 4613,\n",
              " 469,\n",
              " 4,\n",
              " 22,\n",
              " 71,\n",
              " 87,\n",
              " 12,\n",
              " 16,\n",
              " 43,\n",
              " 530,\n",
              " 38,\n",
              " 76,\n",
              " 15,\n",
              " 13,\n",
              " 1247,\n",
              " 4,\n",
              " 22,\n",
              " 17,\n",
              " 515,\n",
              " 17,\n",
              " 12,\n",
              " 16,\n",
              " 626,\n",
              " 18,\n",
              " 2,\n",
              " 5,\n",
              " 62,\n",
              " 386,\n",
              " 12,\n",
              " 8,\n",
              " 316,\n",
              " 8,\n",
              " 106,\n",
              " 5,\n",
              " 4,\n",
              " 2223,\n",
              " 5244,\n",
              " 16,\n",
              " 480,\n",
              " 66,\n",
              " 3785,\n",
              " 33,\n",
              " 4,\n",
              " 130,\n",
              " 12,\n",
              " 16,\n",
              " 38,\n",
              " 619,\n",
              " 5,\n",
              " 25,\n",
              " 124,\n",
              " 51,\n",
              " 36,\n",
              " 135,\n",
              " 48,\n",
              " 25,\n",
              " 1415,\n",
              " 33,\n",
              " 6,\n",
              " 22,\n",
              " 12,\n",
              " 215,\n",
              " 28,\n",
              " 77,\n",
              " 52,\n",
              " 5,\n",
              " 14,\n",
              " 407,\n",
              " 16,\n",
              " 82,\n",
              " 2,\n",
              " 8,\n",
              " 4,\n",
              " 107,\n",
              " 117,\n",
              " 5952,\n",
              " 15,\n",
              " 256,\n",
              " 4,\n",
              " 2,\n",
              " 7,\n",
              " 3766,\n",
              " 5,\n",
              " 723,\n",
              " 36,\n",
              " 71,\n",
              " 43,\n",
              " 530,\n",
              " 476,\n",
              " 26,\n",
              " 400,\n",
              " 317,\n",
              " 46,\n",
              " 7,\n",
              " 4,\n",
              " 2,\n",
              " 1029,\n",
              " 13,\n",
              " 104,\n",
              " 88,\n",
              " 4,\n",
              " 381,\n",
              " 15,\n",
              " 297,\n",
              " 98,\n",
              " 32,\n",
              " 2071,\n",
              " 56,\n",
              " 26,\n",
              " 141,\n",
              " 6,\n",
              " 194,\n",
              " 7486,\n",
              " 18,\n",
              " 4,\n",
              " 226,\n",
              " 22,\n",
              " 21,\n",
              " 134,\n",
              " 476,\n",
              " 26,\n",
              " 480,\n",
              " 5,\n",
              " 144,\n",
              " 30,\n",
              " 5535,\n",
              " 18,\n",
              " 51,\n",
              " 36,\n",
              " 28,\n",
              " 224,\n",
              " 92,\n",
              " 25,\n",
              " 104,\n",
              " 4,\n",
              " 226,\n",
              " 65,\n",
              " 16,\n",
              " 38,\n",
              " 1334,\n",
              " 88,\n",
              " 12,\n",
              " 16,\n",
              " 283,\n",
              " 5,\n",
              " 16,\n",
              " 4472,\n",
              " 113,\n",
              " 103,\n",
              " 32,\n",
              " 15,\n",
              " 16,\n",
              " 5345,\n",
              " 19,\n",
              " 178,\n",
              " 32]"
            ]
          },
          "metadata": {},
          "execution_count": 2
        }
      ]
    },
    {
      "cell_type": "code",
      "source": [
        "train_labels[0]"
      ],
      "metadata": {
        "colab": {
          "base_uri": "https://localhost:8080/"
        },
        "id": "TmYZwbIqSc47",
        "outputId": "0f4c3deb-43bf-486a-853d-e3c3ea3bbcb7"
      },
      "execution_count": 3,
      "outputs": [
        {
          "output_type": "execute_result",
          "data": {
            "text/plain": [
              "1"
            ]
          },
          "metadata": {},
          "execution_count": 3
        }
      ]
    },
    {
      "cell_type": "code",
      "source": [
        "max([max(sequence) for sequence in train_data])"
      ],
      "metadata": {
        "colab": {
          "base_uri": "https://localhost:8080/"
        },
        "id": "RxhcJsZGSjEG",
        "outputId": "d26bc9cf-cca3-418e-951b-9f6672a6f6e9"
      },
      "execution_count": 4,
      "outputs": [
        {
          "output_type": "execute_result",
          "data": {
            "text/plain": [
              "9999"
            ]
          },
          "metadata": {},
          "execution_count": 4
        }
      ]
    },
    {
      "cell_type": "code",
      "source": [
        "# word_index is a dictionary mapping words to an integer index\n",
        "word_index = imdb.get_word_index()\n",
        "# We reverse it, mapping integer indices to words\n",
        "reverse_word_index = dict([(value, key) for (key, value) in word_index.items()])\n",
        "# We decode the review; note that our indices were offset by 3\n",
        "# because 0, 1 and 2 are reserved indices for \"padding\", \"start of sequence\", and \"unknown\".\n",
        "decoded_review = ' '.join([reverse_word_index.get(i - 3, '?') for i in train_data[0]])"
      ],
      "metadata": {
        "id": "VUsqKSvHSnDc"
      },
      "execution_count": 5,
      "outputs": []
    },
    {
      "cell_type": "code",
      "source": [
        "import numpy as np\n",
        "\n",
        "def vectorize_sequences(sequences, dimension=10000):\n",
        "    # Create an all-zero matrix of shape (len(sequences), dimension)\n",
        "    results = np.zeros((len(sequences), dimension))\n",
        "    for i, sequence in enumerate(sequences):\n",
        "        results[i, sequence] = 1.  # set specific indices of results[i] to 1s\n",
        "    return results\n",
        "\n",
        "# Our vectorized training data\n",
        "x_train = vectorize_sequences(train_data)\n",
        "# Our vectorized test data\n",
        "x_test = vectorize_sequences(test_data)"
      ],
      "metadata": {
        "id": "ysdmweyDSsd8"
      },
      "execution_count": 6,
      "outputs": []
    },
    {
      "cell_type": "code",
      "source": [
        "x_train[0]"
      ],
      "metadata": {
        "colab": {
          "base_uri": "https://localhost:8080/"
        },
        "id": "CfyvQpZNSztN",
        "outputId": "c81968e3-f8f6-468a-d5a6-1048c39e0143"
      },
      "execution_count": 7,
      "outputs": [
        {
          "output_type": "execute_result",
          "data": {
            "text/plain": [
              "array([0., 1., 1., ..., 0., 0., 0.])"
            ]
          },
          "metadata": {},
          "execution_count": 7
        }
      ]
    },
    {
      "cell_type": "code",
      "source": [
        "# Our vectorized labels\n",
        "y_train = np.asarray(train_labels).astype('float32')\n",
        "y_test = np.asarray(test_labels).astype('float32')"
      ],
      "metadata": {
        "id": "-zB2W9VkS4eJ"
      },
      "execution_count": 8,
      "outputs": []
    },
    {
      "cell_type": "code",
      "source": [
        "from keras import models\n",
        "from keras import layers\n",
        "\n",
        "model = models.Sequential()\n",
        "model.add(layers.Dense(16, activation='relu', input_shape=(10000,)))\n",
        "model.add(layers.Dense(16, activation='relu'))\n",
        "model.add(layers.Dense(1, activation='sigmoid'))"
      ],
      "metadata": {
        "id": "DLlQyrQjS6lu"
      },
      "execution_count": 12,
      "outputs": []
    },
    {
      "cell_type": "code",
      "source": [
        "model.compile(optimizer='rmsprop',\n",
        "              loss='binary_crossentropy',\n",
        "              metrics=['accuracy'])"
      ],
      "metadata": {
        "id": "_bfGTXsgS-sH"
      },
      "execution_count": 13,
      "outputs": []
    },
    {
      "cell_type": "code",
      "source": [
        "from keras import optimizers\n",
        "\n",
        "model.compile(optimizer=optimizers.RMSprop(lr=0.001),\n",
        "              loss='binary_crossentropy',\n",
        "              metrics=['accuracy'])"
      ],
      "metadata": {
        "id": "w-WAlYp7TBps"
      },
      "execution_count": 14,
      "outputs": []
    },
    {
      "cell_type": "code",
      "source": [
        "from keras import losses\n",
        "from keras import metrics\n",
        "\n",
        "model.compile(optimizer=optimizers.RMSprop(lr=0.001),\n",
        "              loss=losses.binary_crossentropy,\n",
        "              metrics=[metrics.binary_accuracy])\n"
      ],
      "metadata": {
        "id": "euUh18P5TLDa"
      },
      "execution_count": 15,
      "outputs": []
    },
    {
      "cell_type": "code",
      "source": [
        "x_val = x_train[:10000]\n",
        "partial_x_train = x_train[10000:]\n",
        "\n",
        "y_val = y_train[:10000]\n",
        "partial_y_train = y_train[10000:]"
      ],
      "metadata": {
        "id": "CQOefOYlWlML"
      },
      "execution_count": 16,
      "outputs": []
    },
    {
      "cell_type": "code",
      "source": [
        "history = model.fit(partial_x_train,\n",
        "                    partial_y_train,\n",
        "                    epochs=20,\n",
        "                    batch_size=512,\n",
        "                    validation_data=(x_val, y_val))"
      ],
      "metadata": {
        "colab": {
          "base_uri": "https://localhost:8080/"
        },
        "id": "KPUEQPJrWr9g",
        "outputId": "13618d03-1694-4a70-ca73-ecd24f9d0adc"
      },
      "execution_count": 17,
      "outputs": [
        {
          "output_type": "stream",
          "name": "stdout",
          "text": [
            "Epoch 1/20\n",
            "30/30 [==============================] - 3s 76ms/step - loss: 0.5260 - binary_accuracy: 0.7755 - val_loss: 0.4021 - val_binary_accuracy: 0.8562\n",
            "Epoch 2/20\n",
            "30/30 [==============================] - 1s 41ms/step - loss: 0.3155 - binary_accuracy: 0.8983 - val_loss: 0.3186 - val_binary_accuracy: 0.8785\n",
            "Epoch 3/20\n",
            "30/30 [==============================] - 2s 51ms/step - loss: 0.2304 - binary_accuracy: 0.9254 - val_loss: 0.2804 - val_binary_accuracy: 0.8895\n",
            "Epoch 4/20\n",
            "30/30 [==============================] - 1s 39ms/step - loss: 0.1845 - binary_accuracy: 0.9387 - val_loss: 0.2803 - val_binary_accuracy: 0.8869\n",
            "Epoch 5/20\n",
            "30/30 [==============================] - 1s 39ms/step - loss: 0.1445 - binary_accuracy: 0.9551 - val_loss: 0.2742 - val_binary_accuracy: 0.8901\n",
            "Epoch 6/20\n",
            "30/30 [==============================] - 1s 41ms/step - loss: 0.1198 - binary_accuracy: 0.9649 - val_loss: 0.2860 - val_binary_accuracy: 0.8876\n",
            "Epoch 7/20\n",
            "30/30 [==============================] - 1s 42ms/step - loss: 0.0956 - binary_accuracy: 0.9731 - val_loss: 0.3519 - val_binary_accuracy: 0.8688\n",
            "Epoch 8/20\n",
            "30/30 [==============================] - 1s 40ms/step - loss: 0.0799 - binary_accuracy: 0.9775 - val_loss: 0.3241 - val_binary_accuracy: 0.8837\n",
            "Epoch 9/20\n",
            "30/30 [==============================] - 2s 67ms/step - loss: 0.0635 - binary_accuracy: 0.9847 - val_loss: 0.3377 - val_binary_accuracy: 0.8815\n",
            "Epoch 10/20\n",
            "30/30 [==============================] - 2s 58ms/step - loss: 0.0535 - binary_accuracy: 0.9861 - val_loss: 0.3624 - val_binary_accuracy: 0.8828\n",
            "Epoch 11/20\n",
            "30/30 [==============================] - 2s 59ms/step - loss: 0.0386 - binary_accuracy: 0.9919 - val_loss: 0.4074 - val_binary_accuracy: 0.8701\n",
            "Epoch 12/20\n",
            "30/30 [==============================] - 2s 68ms/step - loss: 0.0316 - binary_accuracy: 0.9941 - val_loss: 0.4349 - val_binary_accuracy: 0.8718\n",
            "Epoch 13/20\n",
            "30/30 [==============================] - 1s 48ms/step - loss: 0.0226 - binary_accuracy: 0.9960 - val_loss: 0.4484 - val_binary_accuracy: 0.8746\n",
            "Epoch 14/20\n",
            "30/30 [==============================] - 2s 52ms/step - loss: 0.0187 - binary_accuracy: 0.9963 - val_loss: 0.4995 - val_binary_accuracy: 0.8713\n",
            "Epoch 15/20\n",
            "30/30 [==============================] - 1s 40ms/step - loss: 0.0108 - binary_accuracy: 0.9995 - val_loss: 0.5432 - val_binary_accuracy: 0.8688\n",
            "Epoch 16/20\n",
            "30/30 [==============================] - 1s 38ms/step - loss: 0.0129 - binary_accuracy: 0.9978 - val_loss: 0.5384 - val_binary_accuracy: 0.8723\n",
            "Epoch 17/20\n",
            "30/30 [==============================] - 1s 38ms/step - loss: 0.0057 - binary_accuracy: 0.9998 - val_loss: 0.5716 - val_binary_accuracy: 0.8719\n",
            "Epoch 18/20\n",
            "30/30 [==============================] - 1s 42ms/step - loss: 0.0075 - binary_accuracy: 0.9986 - val_loss: 0.6057 - val_binary_accuracy: 0.8700\n",
            "Epoch 19/20\n",
            "30/30 [==============================] - 1s 40ms/step - loss: 0.0030 - binary_accuracy: 0.9999 - val_loss: 0.6421 - val_binary_accuracy: 0.8683\n",
            "Epoch 20/20\n",
            "30/30 [==============================] - 1s 42ms/step - loss: 0.0049 - binary_accuracy: 0.9990 - val_loss: 0.6745 - val_binary_accuracy: 0.8694\n"
          ]
        }
      ]
    },
    {
      "cell_type": "code",
      "source": [
        "history_dict = history.history\n",
        "history_dict.keys()"
      ],
      "metadata": {
        "colab": {
          "base_uri": "https://localhost:8080/"
        },
        "id": "xt703fw_XR-n",
        "outputId": "79b66b61-8caa-40cf-f901-02b11acf9194"
      },
      "execution_count": 18,
      "outputs": [
        {
          "output_type": "execute_result",
          "data": {
            "text/plain": [
              "dict_keys(['loss', 'binary_accuracy', 'val_loss', 'val_binary_accuracy'])"
            ]
          },
          "metadata": {},
          "execution_count": 18
        }
      ]
    },
    {
      "cell_type": "code",
      "source": [
        "import matplotlib.pyplot as plt\n",
        "\n",
        "# Use 'loss' and 'val_loss' instead of 'acc' and 'val_acc'\n",
        "loss = history.history['loss']\n",
        "val_loss = history.history['val_loss']\n",
        "\n",
        "epochs = range(1, len(loss) + 1)\n",
        "\n",
        "# \"bo\" is for \"blue dot\"\n",
        "plt.plot(epochs, loss, 'bo', label='Training loss')\n",
        "# \"b\" is for \"solid blue line\"\n",
        "plt.plot(epochs, val_loss, 'b', label='Validation loss')\n",
        "plt.title('Training and validation loss')\n",
        "plt.xlabel('Epochs')\n",
        "plt.ylabel('Loss')\n",
        "plt.legend()\n",
        "\n",
        "plt.show()\n"
      ],
      "metadata": {
        "colab": {
          "base_uri": "https://localhost:8080/",
          "height": 472
        },
        "id": "Ud7WV4K2XbZj",
        "outputId": "e5c5f490-08e2-4175-ad99-c509e464852a"
      },
      "execution_count": 19,
      "outputs": [
        {
          "output_type": "display_data",
          "data": {
            "text/plain": [
              "<Figure size 640x480 with 1 Axes>"
            ],
            "image/png": "[encoded data removed]"
          },
          "metadata": {}
        }
      ]
    },
    {
      "cell_type": "code",
      "source": [
        "plt.clf()   # clear figure\n",
        "acc_values = history_dict['binary_accuracy']\n",
        "val_acc_values = history_dict['val_binary_accuracy']\n",
        "\n",
        "plt.plot(epochs, acc_values, 'bo', label='Training acc')\n",
        "plt.plot(epochs, val_acc_values, 'b', label='Validation acc')\n",
        "plt.title('Training and validation accuracy')\n",
        "plt.xlabel('Epochs')\n",
        "plt.ylabel('Accuracy')\n",
        "plt.legend()\n",
        "\n",
        "plt.show()\n",
        "\n",
        "\n",
        "\n",
        "\n",
        "\n"
      ],
      "metadata": {
        "colab": {
          "base_uri": "https://localhost:8080/",
          "height": 472
        },
        "id": "LTpJkBQuXwBy",
        "outputId": "a2c9a1c2-74eb-4a5a-900b-4bb9ce8d0e05"
      },
      "execution_count": 20,
      "outputs": [
        {
          "output_type": "display_data",
          "data": {
            "text/plain": [
              "<Figure size 640x480 with 1 Axes>"
            ],
            "image/png": "[encoded data removed]"
          },
          "metadata": {}
        }
      ]
    },
    {
      "cell_type": "code",
      "source": [
        "model = models.Sequential()\n",
        "model.add(layers.Dense(16, activation='relu', input_shape=(10000,)))\n",
        "model.add(layers.Dense(16, activation='relu'))\n",
        "model.add(layers.Dense(1, activation='sigmoid'))\n",
        "\n",
        "model.compile(optimizer='rmsprop',\n",
        "              loss='binary_crossentropy',\n",
        "              metrics=['accuracy'])\n",
        "\n",
        "model.fit(x_train, y_train, epochs=4, batch_size=512)\n",
        "results = model.evaluate(x_test, y_test)\n"
      ],
      "metadata": {
        "colab": {
          "base_uri": "https://localhost:8080/"
        },
        "id": "mqqlqyuIZir-",
        "outputId": "607c3886-7af1-4e36-f2cb-9284a03a90dc"
      },
      "execution_count": 21,
      "outputs": [
        {
          "output_type": "stream",
          "name": "stdout",
          "text": [
            "Epoch 1/4\n",
            "49/49 [==============================] - 2s 32ms/step - loss: 0.4381 - accuracy: 0.8219\n",
            "Epoch 2/4\n",
            "49/49 [==============================] - 1s 30ms/step - loss: 0.2588 - accuracy: 0.9050\n",
            "Epoch 3/4\n",
            "49/49 [==============================] - 1s 29ms/step - loss: 0.2064 - accuracy: 0.9239\n",
            "Epoch 4/4\n",
            "49/49 [==============================] - 1s 29ms/step - loss: 0.1764 - accuracy: 0.9369\n",
            "782/782 [==============================] - 2s 2ms/step - loss: 0.3212 - accuracy: 0.8732\n"
          ]
        }
      ]
    },
    {
      "cell_type": "code",
      "source": [
        "test_loss, test_accuracy = model.evaluate(x_test, y_test)\n",
        "print(f'Test Accuracy: {test_accuracy}')\n",
        "print(f'Test Loss: {test_loss}')"
      ],
      "metadata": {
        "colab": {
          "base_uri": "https://localhost:8080/"
        },
        "id": "TEyJi3qbJ5VG",
        "outputId": "b05a3ca2-96cc-441b-996d-512f516428f5"
      },
      "execution_count": 22,
      "outputs": [
        {
          "output_type": "stream",
          "name": "stdout",
          "text": [
            "782/782 [==============================] - 2s 3ms/step - loss: 0.3212 - accuracy: 0.8732\n",
            "Test Accuracy: 0.8731600046157837\n",
            "Test Loss: 0.32120925188064575\n"
          ]
        }
      ]
    },
    {
      "cell_type": "code",
      "source": [
        "results"
      ],
      "metadata": {
        "colab": {
          "base_uri": "https://localhost:8080/"
        },
        "id": "8G0boTLeZ4Fu",
        "outputId": "1de38807-504c-4633-9caa-b705acddde41"
      },
      "execution_count": 23,
      "outputs": [
        {
          "output_type": "execute_result",
          "data": {
            "text/plain": [
              "[0.32120925188064575, 0.8731600046157837]"
            ]
          },
          "metadata": {},
          "execution_count": 23
        }
      ]
    },
    {
      "cell_type": "code",
      "source": [
        "model.predict(x_test)"
      ],
      "metadata": {
        "colab": {
          "base_uri": "https://localhost:8080/"
        },
        "id": "4VMt9Xt7Z_Pt",
        "outputId": "e23d1026-8235-4f2a-cd1e-30b52e44d7fa"
      },
      "execution_count": 24,
      "outputs": [
        {
          "output_type": "stream",
          "name": "stdout",
          "text": [
            "782/782 [==============================] - 2s 2ms/step\n"
          ]
        },
        {
          "output_type": "execute_result",
          "data": {
            "text/plain": [
              "array([[0.26711282],\n",
              "       [0.9997274 ],\n",
              "       [0.949667  ],\n",
              "       ...,\n",
              "       [0.17596102],\n",
              "       [0.15312351],\n",
              "       [0.7564343 ]], dtype=float32)"
            ]
          },
          "metadata": {},
          "execution_count": 24
        }
      ]
    },
    {
      "cell_type": "code",
      "source": [
        "from keras import models\n",
        "from keras import layers\n",
        "\n",
        "loki_model = models.Sequential()\n",
        "loki_model.add(layers.Dense(16, activation='tanh', input_shape=(10000,)))\n",
        "loki_model.add(layers.Dropout(0.89))  # Adding the dropout layer after the first Dense layer\n",
        "loki_model.add(layers.Dense(32, activation='tanh'))\n",
        "loki_model.add(layers.Dropout(0.82))  # Adding the dropout layer after the Second Dense layer\n",
        "loki_model.add(layers.Dense(64, activation='tanh'))\n",
        "\n",
        "\n",
        "\n",
        "\n",
        "\n"
      ],
      "metadata": {
        "id": "kWitjNnfTM_o"
      },
      "execution_count": 45,
      "outputs": []
    },
    {
      "cell_type": "code",
      "source": [
        "loki_model.compile(optimizer='rmsprop',\n",
        "              loss='mean_squared_error',\n",
        "              metrics=['binary_accuracy'])"
      ],
      "metadata": {
        "id": "sN5lgymPTOOz"
      },
      "execution_count": 46,
      "outputs": []
    },
    {
      "cell_type": "code",
      "source": [
        "from keras import optimizers\n",
        "\n",
        "# Use the learning_rate parameter to set the learning rate\n",
        "optimizer = optimizers.RMSprop(learning_rate=0.001)\n",
        "\n",
        "loki_model.compile(optimizer=optimizer,\n",
        "              loss='mean_squared_error',\n",
        "              metrics=['binary_accuracy'])"
      ],
      "metadata": {
        "id": "n-eHgoQjTSDp"
      },
      "execution_count": 47,
      "outputs": []
    },
    {
      "cell_type": "code",
      "source": [
        "from keras import losses\n",
        "from keras import metrics\n",
        "\n",
        "loki_model.compile(optimizer=optimizers.RMSprop(learning_rate=0.001),\n",
        "              loss=losses.mean_squared_error,\n",
        "              metrics=[metrics.binary_accuracy])"
      ],
      "metadata": {
        "id": "yrPiFLLeTWGS"
      },
      "execution_count": 48,
      "outputs": []
    },
    {
      "cell_type": "code",
      "source": [
        "x_val_new = x_train[:10000]\n",
        "partial_x_train_new= x_train[10000:]\n",
        "\n",
        "y_val_new = y_train[:10000]\n",
        "partial_y_train_new = y_train[10000:]"
      ],
      "metadata": {
        "id": "fNUTGK9JTbq3"
      },
      "execution_count": 49,
      "outputs": []
    },
    {
      "cell_type": "code",
      "source": [
        "history_new = loki_model.fit(partial_x_train_new,\n",
        "                    partial_y_train_new,\n",
        "                    epochs=20,\n",
        "                    batch_size=512,\n",
        "                    validation_data=(x_val, y_val))"
      ],
      "metadata": {
        "colab": {
          "base_uri": "https://localhost:8080/"
        },
        "id": "M5dPkM88Te4G",
        "outputId": "b9b70000-4c05-4976-d0f5-4ebaa2a9a846"
      },
      "execution_count": 50,
      "outputs": [
        {
          "output_type": "stream",
          "name": "stdout",
          "text": [
            "Epoch 1/20\n",
            "30/30 [==============================] - 3s 65ms/step - loss: 0.5983 - binary_accuracy: 0.5049 - val_loss: 0.4304 - val_binary_accuracy: 0.4947\n",
            "Epoch 2/20\n",
            "30/30 [==============================] - 1s 40ms/step - loss: 0.4949 - binary_accuracy: 0.5155 - val_loss: 0.3306 - val_binary_accuracy: 0.4957\n",
            "Epoch 3/20\n",
            "30/30 [==============================] - 1s 43ms/step - loss: 0.3928 - binary_accuracy: 0.5436 - val_loss: 0.2101 - val_binary_accuracy: 0.6600\n",
            "Epoch 4/20\n",
            "30/30 [==============================] - 1s 42ms/step - loss: 0.3118 - binary_accuracy: 0.5877 - val_loss: 0.1640 - val_binary_accuracy: 0.8203\n",
            "Epoch 5/20\n",
            "30/30 [==============================] - 1s 42ms/step - loss: 0.2622 - binary_accuracy: 0.6278 - val_loss: 0.1379 - val_binary_accuracy: 0.8612\n",
            "Epoch 6/20\n",
            "30/30 [==============================] - 1s 40ms/step - loss: 0.2304 - binary_accuracy: 0.6640 - val_loss: 0.1400 - val_binary_accuracy: 0.8153\n",
            "Epoch 7/20\n",
            "30/30 [==============================] - 2s 63ms/step - loss: 0.2081 - binary_accuracy: 0.6959 - val_loss: 0.1230 - val_binary_accuracy: 0.8778\n",
            "Epoch 8/20\n",
            "30/30 [==============================] - 2s 69ms/step - loss: 0.1956 - binary_accuracy: 0.7171 - val_loss: 0.1380 - val_binary_accuracy: 0.8157\n",
            "Epoch 9/20\n",
            "30/30 [==============================] - 2s 69ms/step - loss: 0.1834 - binary_accuracy: 0.7371 - val_loss: 0.1203 - val_binary_accuracy: 0.8763\n",
            "Epoch 10/20\n",
            "30/30 [==============================] - 2s 67ms/step - loss: 0.1753 - binary_accuracy: 0.7508 - val_loss: 0.1189 - val_binary_accuracy: 0.8798\n",
            "Epoch 11/20\n",
            "30/30 [==============================] - 1s 42ms/step - loss: 0.1665 - binary_accuracy: 0.7719 - val_loss: 0.1204 - val_binary_accuracy: 0.8682\n",
            "Epoch 12/20\n",
            "30/30 [==============================] - 1s 42ms/step - loss: 0.1604 - binary_accuracy: 0.7856 - val_loss: 0.1187 - val_binary_accuracy: 0.8764\n",
            "Epoch 13/20\n",
            "30/30 [==============================] - 1s 40ms/step - loss: 0.1583 - binary_accuracy: 0.7877 - val_loss: 0.1169 - val_binary_accuracy: 0.8802\n",
            "Epoch 14/20\n",
            "30/30 [==============================] - 1s 42ms/step - loss: 0.1537 - binary_accuracy: 0.8035 - val_loss: 0.1161 - val_binary_accuracy: 0.8776\n",
            "Epoch 15/20\n",
            "30/30 [==============================] - 1s 42ms/step - loss: 0.1477 - binary_accuracy: 0.8140 - val_loss: 0.1132 - val_binary_accuracy: 0.8797\n",
            "Epoch 16/20\n",
            "30/30 [==============================] - 1s 43ms/step - loss: 0.1475 - binary_accuracy: 0.8146 - val_loss: 0.1140 - val_binary_accuracy: 0.8754\n",
            "Epoch 17/20\n",
            "30/30 [==============================] - 1s 43ms/step - loss: 0.1428 - binary_accuracy: 0.8287 - val_loss: 0.1091 - val_binary_accuracy: 0.8833\n",
            "Epoch 18/20\n",
            "30/30 [==============================] - 1s 42ms/step - loss: 0.1395 - binary_accuracy: 0.8382 - val_loss: 0.1077 - val_binary_accuracy: 0.8859\n",
            "Epoch 19/20\n",
            "30/30 [==============================] - 2s 61ms/step - loss: 0.1369 - binary_accuracy: 0.8388 - val_loss: 0.1104 - val_binary_accuracy: 0.8693\n",
            "Epoch 20/20\n",
            "30/30 [==============================] - 2s 67ms/step - loss: 0.1374 - binary_accuracy: 0.8394 - val_loss: 0.1068 - val_binary_accuracy: 0.8813\n"
          ]
        }
      ]
    },
    {
      "cell_type": "code",
      "source": [
        "history_dict = history_new.history\n",
        "history_dict.keys()"
      ],
      "metadata": {
        "colab": {
          "base_uri": "https://localhost:8080/"
        },
        "id": "LAa2CDCwTjWp",
        "outputId": "0cca92ae-3601-49fd-f104-30ba59919a78"
      },
      "execution_count": 51,
      "outputs": [
        {
          "output_type": "execute_result",
          "data": {
            "text/plain": [
              "dict_keys(['loss', 'binary_accuracy', 'val_loss', 'val_binary_accuracy'])"
            ]
          },
          "metadata": {},
          "execution_count": 51
        }
      ]
    },
    {
      "cell_type": "code",
      "source": [
        "import matplotlib.pyplot as plt\n",
        "\n",
        "new_model_accu = history_new.history['binary_accuracy']\n",
        "new_model_accu_val = history_new.history['val_binary_accuracy']\n",
        "loss_new_model = history_new.history['loss']\n",
        "val_loss_new_model = history_new.history['val_loss']\n",
        "\n",
        "\n",
        "epochs = range(1, len(loss) + 1)\n",
        "\n",
        "# \"bo\" is for \"blue dot\"\n",
        "plt.plot(epochs, loss_new_model, 'bo', label='Training loss')\n",
        "# \"b\" is for \"solid blue line\"\n",
        "plt.plot(epochs, val_loss_new_model, 'b', label='Validation loss')\n",
        "plt.title('Training and validation loss')\n",
        "plt.xlabel('Epochs')\n",
        "plt.ylabel('Loss')\n",
        "plt.legend()\n",
        "\n",
        "plt.show()\n"
      ],
      "metadata": {
        "colab": {
          "base_uri": "https://localhost:8080/",
          "height": 472
        },
        "id": "OcyCWjEWTnja",
        "outputId": "990e9c07-71ae-4a74-f6ae-1e090d1c5fcc"
      },
      "execution_count": 52,
      "outputs": [
        {
          "output_type": "display_data",
          "data": {
            "text/plain": [
              "<Figure size 640x480 with 1 Axes>"
            ],
            "image/png": "[encoded data removed]"
          },
          "metadata": {}
        }
      ]
    },
    {
      "cell_type": "code",
      "source": [
        "plt.clf()   # clear figure\n",
        "acc_values = history_dict['binary_accuracy']\n",
        "val_acc_values = history_dict['val_binary_accuracy']\n",
        "\n",
        "plt.plot(epochs, new_model_accu, 'bo', label='Training acc')\n",
        "plt.plot(epochs, new_model_accu_val, 'b', label='Validation acc')\n",
        "plt.title('Training and validation accuracy')\n",
        "plt.xlabel('Epochs')\n",
        "plt.ylabel('Accuracy')\n",
        "plt.legend()\n",
        "\n",
        "plt.show()\n"
      ],
      "metadata": {
        "colab": {
          "base_uri": "https://localhost:8080/",
          "height": 472
        },
        "id": "NVyKe3QdTrZE",
        "outputId": "d2f325ef-48c6-4e77-c7e7-6acb62f5d1e3"
      },
      "execution_count": 53,
      "outputs": [
        {
          "output_type": "display_data",
          "data": {
            "text/plain": [
              "<Figure size 640x480 with 1 Axes>"
            ],
            "image/png": "[encoded data removed]"
          },
          "metadata": {}
        }
      ]
    },
    {
      "cell_type": "code",
      "source": [
        "test_loss, test_accuracy = loki_model.evaluate(x_test, y_test)\n",
        "print(f'Test Accuracy: {test_accuracy}')\n",
        "print(f'Test Loss: {test_loss}')"
      ],
      "metadata": {
        "colab": {
          "base_uri": "https://localhost:8080/"
        },
        "id": "Ax0AM9rGZKVh",
        "outputId": "6be84ab0-0d2d-4f73-aa6c-f417e4e6db88"
      },
      "execution_count": 54,
      "outputs": [
        {
          "output_type": "stream",
          "name": "stdout",
          "text": [
            "782/782 [==============================] - 3s 3ms/step - loss: 0.1114 - binary_accuracy: 0.8750\n",
            "Test Accuracy: 0.8750268816947937\n",
            "Test Loss: 0.11135465651750565\n"
          ]
        }
      ]
    },
    {
      "cell_type": "markdown",
      "source": [
        "with dropouts\n",
        "loss: 0.1114 - binary_accuracy: 0.8750\n",
        "Test Accuracy: 0.8750268816947937\n",
        "Test Loss: 0.11135465651750565"
      ],
      "metadata": {
        "id": "TTL0ZT9IB1pq"
      }
    },
    {
      "cell_type": "markdown",
      "source": [
        "without improvemnt\n",
        "loss: 0.1465 - binary_accuracy: 0.8426\n",
        "Test Accuracy: 0.8425806164741516\n",
        "Test Loss: 0.14648199081420898\n",
        "\n"
      ],
      "metadata": {
        "id": "jQy6MJGcahj_"
      }
    },
    {
      "cell_type": "code",
      "source": [
        "results"
      ],
      "metadata": {
        "colab": {
          "base_uri": "https://localhost:8080/"
        },
        "id": "I_WuGSjZT7Vv",
        "outputId": "ae7518cf-9bed-4afb-ffe7-8951107ca120"
      },
      "execution_count": 55,
      "outputs": [
        {
          "output_type": "execute_result",
          "data": {
            "text/plain": [
              "[0.32120925188064575, 0.8731600046157837]"
            ]
          },
          "metadata": {},
          "execution_count": 55
        }
      ]
    },
    {
      "cell_type": "code",
      "source": [
        "loki_model.predict(x_test)"
      ],
      "metadata": {
        "colab": {
          "base_uri": "https://localhost:8080/"
        },
        "id": "OKjeoWRHT8IP",
        "outputId": "967cb877-0d70-476e-a4a6-f8efb0ee7418"
      },
      "execution_count": 56,
      "outputs": [
        {
          "output_type": "stream",
          "name": "stdout",
          "text": [
            "782/782 [==============================] - 2s 2ms/step\n"
          ]
        },
        {
          "output_type": "execute_result",
          "data": {
            "text/plain": [
              "array([[0.3688463 , 0.3689935 , 0.36870182, ..., 0.36856174, 0.36881366,\n",
              "        0.36870164],\n",
              "       [0.85024565, 0.85030836, 0.85019827, ..., 0.85013944, 0.8502397 ,\n",
              "        0.8501919 ],\n",
              "       [0.8056111 , 0.80568975, 0.8055327 , ..., 0.80545914, 0.80559295,\n",
              "        0.8055341 ],\n",
              "       ...,\n",
              "       [0.33279815, 0.3329472 , 0.33265495, ..., 0.33251286, 0.33276704,\n",
              "        0.33265296],\n",
              "       [0.16890518, 0.16905637, 0.16876696, ..., 0.16862242, 0.1688774 ,\n",
              "        0.16876106],\n",
              "       [0.54239374, 0.5425285 , 0.54225713, ..., 0.5421298 , 0.54236186,\n",
              "        0.54225963]], dtype=float32)"
            ]
          },
          "metadata": {},
          "execution_count": 56
        }
      ]
    },
    {
      "cell_type": "code",
      "source": [],
      "metadata": {
        "id": "0h3XyIG4zx_R"
      },
      "execution_count": null,
      "outputs": []
    },
    {
      "cell_type": "markdown",
      "source": [
        "\n",
        "**Old Model (No Improvements):** The outdated model is made up entirely of dense layers with no extra regularization or normalization. It has a more straightforward architecture with a total of 160,305 parameters. It demonstrated moderate performance throughout training, achieving a test accuracy of **87.32% and a test loss of 0.3212.**\n",
        "\n",
        "**Model Without Enhancements:** This model is lacking in further regularization or normalizing layers, much like the outdated model. The parameters (160, 305) and architecture are same. The model had the lowest performance of the three during training, with a test accuracy of **84.26% and a test loss of 0.1465.**\n",
        "\n",
        "\n",
        "**Model with Dropout Layers:** This model has batch normalization after the second dense layer and dropout layers after the first dense layer. It features a total of 644,545 parameters, which can help avoid overfitting. It demonstrated enhanced performance throughout training, with a test accuracy of **87.51% and a test loss of 0.1114.**\n",
        "\n",
        "\n",
        "\n",
        "\n",
        "\n",
        "\n",
        "\n",
        "\n",
        "\n",
        "\n",
        "\n"
      ],
      "metadata": {
        "id": "t9ITOGk5ajMa"
      }
    }
  ]
}